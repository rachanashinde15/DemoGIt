{
  "cells": [
    {
      "cell_type": "markdown",
      "metadata": {
        "id": "view-in-github",
        "colab_type": "text"
      },
      "source": [
        "<a href=\"https://colab.research.google.com/github/rachanashinde15/DemoGIt/blob/master/resnet_thesis_final_3_layerfinaloutput.ipynb\" target=\"_parent\"><img src=\"https://colab.research.google.com/assets/colab-badge.svg\" alt=\"Open In Colab\"/></a>"
      ]
    },
    {
      "cell_type": "code",
      "source": [
        "#Import Libraries\n",
        "import numpy as np\n",
        "import pandas as pd\n",
        "import matplotlib.pyplot as plt\n",
        "import tensorflow as tf\n",
        "import keras\n",
        "from tensorflow.keras import datasets,models,layers\n"
      ],
      "metadata": {
        "id": "KJlRZXw0bxQm"
      },
      "execution_count": null,
      "outputs": []
    },
    {
      "cell_type": "code",
      "source": [],
      "metadata": {
        "id": "nmYnd-LBSC5b"
      },
      "execution_count": null,
      "outputs": []
    },
    {
      "cell_type": "code",
      "source": [
        "# Adding TF Cifar10 Data ..\n",
        "from keras.datasets import cifar100\n",
        "(X_train, Y_train), (X_test, Y_test) = cifar100.load_data()"
      ],
      "metadata": {
        "id": "qFxLaeXOblsK",
        "colab": {
          "base_uri": "https://localhost:8080/"
        },
        "outputId": "050b436e-e49b-49ae-b828-fcc6c6c5998d"
      },
      "execution_count": null,
      "outputs": [
        {
          "output_type": "stream",
          "name": "stdout",
          "text": [
            "Downloading data from https://www.cs.toronto.edu/~kriz/cifar-100-python.tar.gz\n",
            "169001437/169001437 [==============================] - 3s 0us/step\n"
          ]
        }
      ]
    },
    {
      "cell_type": "code",
      "source": [
        "# Drawing sample . \n",
        "plt.imshow(X_train[42])"
      ],
      "metadata": {
        "colab": {
          "base_uri": "https://localhost:8080/",
          "height": 447
        },
        "id": "7F-inCt-bl4a",
        "outputId": "e7fd3a22-c2d2-4812-d8d2-f3d06d05a824"
      },
      "execution_count": null,
      "outputs": [
        {
          "output_type": "execute_result",
          "data": {
            "text/plain": [
              "<matplotlib.image.AxesImage at 0x7f94f9859030>"
            ]
          },
          "metadata": {},
          "execution_count": 3
        },
        {
          "output_type": "display_data",
          "data": {
            "text/plain": [
              "<Figure size 640x480 with 1 Axes>"
            ],
            "image/png": "[encoded data removed]"
          },
          "metadata": {}
        }
      ]
    },
    {
      "cell_type": "code",
      "source": [
        "# Normalize the data.\n",
        "X_train = X_train.astype('float32')\n",
        "X_test = X_test.astype('float32')\n",
        "X_train /= 255.0\n",
        "X_test /= 255.0"
      ],
      "metadata": {
        "id": "QZ47Gel0bmFm"
      },
      "execution_count": null,
      "outputs": []
    },
    {
      "cell_type": "code",
      "source": [
        "from sklearn.model_selection import train_test_split\n",
        "X_train, X_val, Y_train, Y_val = train_test_split(X_train, Y_train, test_size = 0.2,shuffle = True)"
      ],
      "metadata": {
        "id": "B8IeG8RXbmIc"
      },
      "execution_count": null,
      "outputs": []
    },
    {
      "cell_type": "code",
      "source": [
        "from sklearn.preprocessing import OneHotEncoder\n",
        "encoder = OneHotEncoder()\n",
        "encoder.fit(Y_train)\n",
        "Y_train = encoder.transform(Y_train).toarray()\n",
        "Y_test = encoder.transform(Y_test).toarray()\n",
        "Y_val =  encoder.transform(Y_val).toarray()"
      ],
      "metadata": {
        "id": "depSXC9pbmLR"
      },
      "execution_count": null,
      "outputs": []
    },
    {
      "cell_type": "code",
      "source": [
        "from keras.preprocessing.image import ImageDataGenerator\n",
        "aug = ImageDataGenerator(horizontal_flip=True, width_shift_range=0.05,\n",
        "                             height_shift_range=0.05)\n",
        "aug.fit(X_train)"
      ],
      "metadata": {
        "id": "TZh5_78NbmN4"
      },
      "execution_count": null,
      "outputs": []
    },
    {
      "cell_type": "code",
      "source": [
        "from keras.callbacks import EarlyStopping\n",
        "from keras.layers import Dense, Conv2D,  MaxPool2D, Flatten, GlobalAveragePooling2D,  BatchNormalization, Layer, Add\n",
        "from keras.models import Sequential\n",
        "from keras.models import Model\n",
        "import tensorflow as tf\n",
        "\n",
        "\n",
        "class ResnetBlock(Model):\n",
        "    \"\"\"\n",
        "    A standard resnet block.\n",
        "    \"\"\"\n",
        "\n",
        "    def __init__(self, channels: int, down_sample=False):\n",
        "        \"\"\"\n",
        "        channels: same as number of convolution kernels\n",
        "        \"\"\"\n",
        "        super().__init__()\n",
        "\n",
        "        self.__channels = channels\n",
        "        self.__down_sample = down_sample\n",
        "        self.__strides = [2, 1] if down_sample else [1, 1]\n",
        "\n",
        "        KERNEL_SIZE = (3, 3)\n",
        "        # use He initialization, instead of Xavier (a.k.a 'glorot_uniform' in Keras), as suggested in [2]\n",
        "        INIT_SCHEME = \"he_normal\"\n",
        "\n",
        "        self.conv_1 = Conv2D(self.__channels, strides=self.__strides[0],\n",
        "                             kernel_size=KERNEL_SIZE, padding=\"same\", kernel_initializer=INIT_SCHEME)\n",
        "        self.bn_1 = BatchNormalization()\n",
        "        self.conv_2 = Conv2D(self.__channels, strides=self.__strides[1],\n",
        "                             kernel_size=KERNEL_SIZE, padding=\"same\", kernel_initializer=INIT_SCHEME)\n",
        "        self.bn_2 = BatchNormalization()\n",
        "        self.merge = Add()\n",
        "\n",
        "        if self.__down_sample:\n",
        "            # perform down sampling using stride of 2, according to [1].\n",
        "            self.res_conv = Conv2D(\n",
        "                self.__channels, strides=2, kernel_size=(1, 1), kernel_initializer=INIT_SCHEME, padding=\"same\")\n",
        "            self.res_bn = BatchNormalization()\n",
        "\n",
        "    def call(self, inputs):\n",
        "        res = inputs\n",
        "\n",
        "        x = self.conv_1(inputs)\n",
        "        x = self.bn_1(x)\n",
        "        x = tf.nn.relu(x)\n",
        "        x = self.conv_2(x)\n",
        "        x = self.bn_2(x)\n",
        "\n",
        "        if self.__down_sample:\n",
        "            res = self.res_conv(res)\n",
        "            res = self.res_bn(res)\n",
        "\n",
        "        # if not perform down sample, then add a shortcut directly\n",
        "        x = self.merge([x, res])\n",
        "        out = tf.nn.relu(x)\n",
        "        return out\n",
        "\n",
        "\n",
        "class ResNet18(Model):\n",
        "    def __init__(self, num_classes, **kwargs):\n",
        "        super().__init__(**kwargs)\n",
        "        self.conv_1 = Conv2D(64, (7, 7), strides=2, padding=\"same\", kernel_initializer=\"he_normal\")\n",
        "        self.init_bn = BatchNormalization()\n",
        "        self.pool_2 = MaxPool2D(pool_size=(2, 2), strides=2, padding=\"same\")\n",
        "        self.res_1 = ResnetBlock(64)\n",
        "        self.res_2 = ResnetBlock(128, down_sample=True)\n",
        "        self.res_3 = ResnetBlock(256, down_sample=True)\n",
        "        self.res_4 = ResnetBlock(512, down_sample=True)\n",
        "        self.avg_pool = GlobalAveragePooling2D()\n",
        "        self.flat = Flatten()\n",
        "        self.fc = Dense(num_classes, activation=\"softmax\")\n",
        "\n",
        "    def call(self, inputs):\n",
        "        out = self.conv_1(inputs)\n",
        "        out = self.init_bn(out)\n",
        "        out = tf.nn.relu(out)\n",
        "        out = self.pool_2(out)\n",
        "\n",
        "        # Group the consecutive residual blocks\n",
        "        out = self.res_1(out)\n",
        "        out = self.res_2(out)\n",
        "        out = self.res_3(out)\n",
        "        out = self.res_4(out)\n",
        "\n",
        "        out = self.avg_pool(out)\n",
        "        out = self.flat(out)\n",
        "        out = self.fc(out)\n",
        "        return out\n"
      ],
      "metadata": {
        "id": "SVMMv_abbmQl"
      },
      "execution_count": null,
      "outputs": []
    },
    {
      "cell_type": "code",
      "source": [
        "model = ResNet18(100)\n",
        "model.build(input_shape = (None,32,32,3))\n",
        "#use categorical_crossentropy since the label is one-hot encoded\n",
        "from keras.optimizers import SGD\n",
        "# opt = SGD(learning_rate=0.1,momentum=0.9,decay = 1e-04) #parameters suggested by He [1]\n",
        "model.compile(optimizer = \"adam\",loss='categorical_crossentropy', metrics=[\"accuracy\"]) \n",
        "model.summary()"
      ],
      "metadata": {
        "colab": {
          "base_uri": "https://localhost:8080/"
        },
        "id": "Qi_q5fYpcoy3",
        "outputId": "5609694b-e495-4106-a81b-8fa6ea667237"
      },
      "execution_count": null,
      "outputs": [
        {
          "output_type": "stream",
          "name": "stderr",
          "text": [
            "WARNING:tensorflow:AutoGraph could not transform <bound method ResnetBlock.call of <__main__.ResnetBlock object at 0x7f94f773e1d0>> and will run it as-is.\n",
            "Cause: mangled names are not yet supported\n",
            "To silence this warning, decorate the function with @tf.autograph.experimental.do_not_convert\n"
          ]
        },
        {
          "output_type": "stream",
          "name": "stdout",
          "text": [
            "WARNING: AutoGraph could not transform <bound method ResnetBlock.call of <__main__.ResnetBlock object at 0x7f94f773e1d0>> and will run it as-is.\n",
            "Cause: mangled names are not yet supported\n",
            "To silence this warning, decorate the function with @tf.autograph.experimental.do_not_convert\n",
            "Model: \"res_net18\"\n",
            "_________________________________________________________________\n",
            " Layer (type)                Output Shape              Param #   \n",
            "=================================================================\n",
            " conv2d (Conv2D)             multiple                  9472      \n",
            "                                                                 \n",
            " batch_normalization (BatchN  multiple                 256       \n",
            " ormalization)                                                   \n",
            "                                                                 \n",
            " max_pooling2d (MaxPooling2D  multiple                 0         \n",
            " )                                                               \n",
            "                                                                 \n",
            " resnet_block (ResnetBlock)  multiple                  74368     \n",
            "                                                                 \n",
            " resnet_block_1 (ResnetBlock  multiple                 231296    \n",
            " )                                                               \n",
            "                                                                 \n",
            " resnet_block_2 (ResnetBlock  multiple                 921344    \n",
            " )                                                               \n",
            "                                                                 \n",
            " resnet_block_3 (ResnetBlock  multiple                 3677696   \n",
            " )                                                               \n",
            "                                                                 \n",
            " global_average_pooling2d (G  multiple                 0         \n",
            " lobalAveragePooling2D)                                          \n",
            "                                                                 \n",
            " flatten (Flatten)           multiple                  0         \n",
            "                                                                 \n",
            " dense (Dense)               multiple                  51300     \n",
            "                                                                 \n",
            "=================================================================\n",
            "Total params: 4,965,732\n",
            "Trainable params: 4,959,972\n",
            "Non-trainable params: 5,760\n",
            "_________________________________________________________________\n"
          ]
        }
      ]
    },
    {
      "cell_type": "code",
      "source": [
        "from keras.callbacks import EarlyStopping\n",
        "\n",
        "es = EarlyStopping(patience= 8, restore_best_weights=True, monitor=\"val_acc\")\n",
        "#I did not use cross validation, so the validate performance is not accurate.\n",
        "STEPS = len(X_train) / 256\n",
        "history = model.fit(aug.flow(X_train,Y_train,batch_size = 256), steps_per_epoch=STEPS, batch_size = 256, epochs=50, validation_data=(X_train, Y_train),callbacks=[es])"
      ],
      "metadata": {
        "colab": {
          "base_uri": "https://localhost:8080/"
        },
        "id": "OgD_MOtkcr_O",
        "outputId": "86ecb225-e00e-4bb4-e8b5-6d72d9871430"
      },
      "execution_count": null,
      "outputs": [
        {
          "output_type": "stream",
          "name": "stdout",
          "text": [
            "Epoch 1/50\n",
            "157/156 [==============================] - ETA: 0s - loss: 3.5865 - accuracy: 0.1696"
          ]
        },
        {
          "output_type": "stream",
          "name": "stderr",
          "text": [
            "WARNING:tensorflow:Early stopping conditioned on metric `val_acc` which is not available. Available metrics are: loss,accuracy,val_loss,val_accuracy\n"
          ]
        },
        {
          "output_type": "stream",
          "name": "stdout",
          "text": [
            "\b\b\b\b\b\b\b\b\b\b\b\b\b\b\b\b\b\b\b\b\b\b\b\b\b\b\b\b\b\b\b\b\b\b\b\b\b\b\b\b\b\b\b\b\b\b\b\b\b\b\b\b\b\b\b\b\b\b\b\b\b\b\b\b\b\b\b\b\b\b\b\b\b\b\b\b\b\b\b\b\b\b\b\b\r156/156 [==============================] - 46s 149ms/step - loss: 3.5865 - accuracy: 0.1696 - val_loss: 5.3657 - val_accuracy: 0.0613\n",
            "Epoch 2/50\n",
            "157/156 [==============================] - ETA: 0s - loss: 2.9031 - accuracy: 0.2807"
          ]
        },
        {
          "output_type": "stream",
          "name": "stderr",
          "text": [
            "WARNING:tensorflow:Early stopping conditioned on metric `val_acc` which is not available. Available metrics are: loss,accuracy,val_loss,val_accuracy\n"
          ]
        },
        {
          "output_type": "stream",
          "name": "stdout",
          "text": [
            "\b\b\b\b\b\b\b\b\b\b\b\b\b\b\b\b\b\b\b\b\b\b\b\b\b\b\b\b\b\b\b\b\b\b\b\b\b\b\b\b\b\b\b\b\b\b\b\b\b\b\b\b\b\b\b\b\b\b\b\b\b\b\b\b\b\b\b\b\b\b\b\b\b\b\b\b\b\b\b\b\b\b\b\b\r156/156 [==============================] - 22s 140ms/step - loss: 2.9031 - accuracy: 0.2807 - val_loss: 3.0992 - val_accuracy: 0.2473\n",
            "Epoch 3/50\n",
            "157/156 [==============================] - ETA: 0s - loss: 2.5719 - accuracy: 0.3414"
          ]
        },
        {
          "output_type": "stream",
          "name": "stderr",
          "text": [
            "WARNING:tensorflow:Early stopping conditioned on metric `val_acc` which is not available. Available metrics are: loss,accuracy,val_loss,val_accuracy\n"
          ]
        },
        {
          "output_type": "stream",
          "name": "stdout",
          "text": [
            "\b\b\b\b\b\b\b\b\b\b\b\b\b\b\b\b\b\b\b\b\b\b\b\b\b\b\b\b\b\b\b\b\b\b\b\b\b\b\b\b\b\b\b\b\b\b\b\b\b\b\b\b\b\b\b\b\b\b\b\b\b\b\b\b\b\b\b\b\b\b\b\b\b\b\b\b\b\b\b\b\b\b\b\b\r156/156 [==============================] - 23s 149ms/step - loss: 2.5719 - accuracy: 0.3414 - val_loss: 2.5836 - val_accuracy: 0.3486\n",
            "Epoch 4/50\n",
            "157/156 [==============================] - ETA: 0s - loss: 2.3203 - accuracy: 0.3958"
          ]
        },
        {
          "output_type": "stream",
          "name": "stderr",
          "text": [
            "WARNING:tensorflow:Early stopping conditioned on metric `val_acc` which is not available. Available metrics are: loss,accuracy,val_loss,val_accuracy\n"
          ]
        },
        {
          "output_type": "stream",
          "name": "stdout",
          "text": [
            "\b\b\b\b\b\b\b\b\b\b\b\b\b\b\b\b\b\b\b\b\b\b\b\b\b\b\b\b\b\b\b\b\b\b\b\b\b\b\b\b\b\b\b\b\b\b\b\b\b\b\b\b\b\b\b\b\b\b\b\b\b\b\b\b\b\b\b\b\b\b\b\b\b\b\b\b\b\b\b\b\b\b\b\b\r156/156 [==============================] - 22s 140ms/step - loss: 2.3203 - accuracy: 0.3958 - val_loss: 2.2690 - val_accuracy: 0.4055\n",
            "Epoch 5/50\n",
            "157/156 [==============================] - ETA: 0s - loss: 2.1407 - accuracy: 0.4343"
          ]
        },
        {
          "output_type": "stream",
          "name": "stderr",
          "text": [
            "WARNING:tensorflow:Early stopping conditioned on metric `val_acc` which is not available. Available metrics are: loss,accuracy,val_loss,val_accuracy\n"
          ]
        },
        {
          "output_type": "stream",
          "name": "stdout",
          "text": [
            "\b\b\b\b\b\b\b\b\b\b\b\b\b\b\b\b\b\b\b\b\b\b\b\b\b\b\b\b\b\b\b\b\b\b\b\b\b\b\b\b\b\b\b\b\b\b\b\b\b\b\b\b\b\b\b\b\b\b\b\b\b\b\b\b\b\b\b\b\b\b\b\b\b\b\b\b\b\b\b\b\b\b\b\b\r156/156 [==============================] - 22s 138ms/step - loss: 2.1407 - accuracy: 0.4343 - val_loss: 2.2464 - val_accuracy: 0.4111\n",
            "Epoch 6/50\n",
            "157/156 [==============================] - ETA: 0s - loss: 1.9606 - accuracy: 0.4742"
          ]
        },
        {
          "output_type": "stream",
          "name": "stderr",
          "text": [
            "WARNING:tensorflow:Early stopping conditioned on metric `val_acc` which is not available. Available metrics are: loss,accuracy,val_loss,val_accuracy\n"
          ]
        },
        {
          "output_type": "stream",
          "name": "stdout",
          "text": [
            "\b\b\b\b\b\b\b\b\b\b\b\b\b\b\b\b\b\b\b\b\b\b\b\b\b\b\b\b\b\b\b\b\b\b\b\b\b\b\b\b\b\b\b\b\b\b\b\b\b\b\b\b\b\b\b\b\b\b\b\b\b\b\b\b\b\b\b\b\b\b\b\b\b\b\b\b\b\b\b\b\b\b\b\b\r156/156 [==============================] - 23s 146ms/step - loss: 1.9606 - accuracy: 0.4742 - val_loss: 1.9863 - val_accuracy: 0.4704\n",
            "Epoch 7/50\n",
            "157/156 [==============================] - ETA: 0s - loss: 1.7989 - accuracy: 0.5119"
          ]
        },
        {
          "output_type": "stream",
          "name": "stderr",
          "text": [
            "WARNING:tensorflow:Early stopping conditioned on metric `val_acc` which is not available. Available metrics are: loss,accuracy,val_loss,val_accuracy\n"
          ]
        },
        {
          "output_type": "stream",
          "name": "stdout",
          "text": [
            "\b\b\b\b\b\b\b\b\b\b\b\b\b\b\b\b\b\b\b\b\b\b\b\b\b\b\b\b\b\b\b\b\b\b\b\b\b\b\b\b\b\b\b\b\b\b\b\b\b\b\b\b\b\b\b\b\b\b\b\b\b\b\b\b\b\b\b\b\b\b\b\b\b\b\b\b\b\b\b\b\b\b\b\b\r156/156 [==============================] - 21s 136ms/step - loss: 1.7989 - accuracy: 0.5119 - val_loss: 1.8346 - val_accuracy: 0.5024\n",
            "Epoch 8/50\n",
            "157/156 [==============================] - ETA: 0s - loss: 1.6568 - accuracy: 0.5439"
          ]
        },
        {
          "output_type": "stream",
          "name": "stderr",
          "text": [
            "WARNING:tensorflow:Early stopping conditioned on metric `val_acc` which is not available. Available metrics are: loss,accuracy,val_loss,val_accuracy\n"
          ]
        },
        {
          "output_type": "stream",
          "name": "stdout",
          "text": [
            "\b\b\b\b\b\b\b\b\b\b\b\b\b\b\b\b\b\b\b\b\b\b\b\b\b\b\b\b\b\b\b\b\b\b\b\b\b\b\b\b\b\b\b\b\b\b\b\b\b\b\b\b\b\b\b\b\b\b\b\b\b\b\b\b\b\b\b\b\b\b\b\b\b\b\b\b\b\b\b\b\b\b\b\b\r156/156 [==============================] - 21s 137ms/step - loss: 1.6568 - accuracy: 0.5439 - val_loss: 1.7965 - val_accuracy: 0.5102\n",
            "Epoch 9/50\n",
            "157/156 [==============================] - ETA: 0s - loss: 1.5240 - accuracy: 0.5762"
          ]
        },
        {
          "output_type": "stream",
          "name": "stderr",
          "text": [
            "WARNING:tensorflow:Early stopping conditioned on metric `val_acc` which is not available. Available metrics are: loss,accuracy,val_loss,val_accuracy\n"
          ]
        },
        {
          "output_type": "stream",
          "name": "stdout",
          "text": [
            "\b\b\b\b\b\b\b\b\b\b\b\b\b\b\b\b\b\b\b\b\b\b\b\b\b\b\b\b\b\b\b\b\b\b\b\b\b\b\b\b\b\b\b\b\b\b\b\b\b\b\b\b\b\b\b\b\b\b\b\b\b\b\b\b\b\b\b\b\b\b\b\b\b\b\b\b\b\b\b\b\b\b\b\b\r156/156 [==============================] - 21s 132ms/step - loss: 1.5240 - accuracy: 0.5762 - val_loss: 1.4901 - val_accuracy: 0.5799\n",
            "Epoch 10/50\n",
            "157/156 [==============================] - ETA: 0s - loss: 1.3933 - accuracy: 0.6060"
          ]
        },
        {
          "output_type": "stream",
          "name": "stderr",
          "text": [
            "WARNING:tensorflow:Early stopping conditioned on metric `val_acc` which is not available. Available metrics are: loss,accuracy,val_loss,val_accuracy\n"
          ]
        },
        {
          "output_type": "stream",
          "name": "stdout",
          "text": [
            "\b\b\b\b\b\b\b\b\b\b\b\b\b\b\b\b\b\b\b\b\b\b\b\b\b\b\b\b\b\b\b\b\b\b\b\b\b\b\b\b\b\b\b\b\b\b\b\b\b\b\b\b\b\b\b\b\b\b\b\b\b\b\b\b\b\b\b\b\b\b\b\b\b\b\b\b\b\b\b\b\b\b\b\b\r156/156 [==============================] - 21s 134ms/step - loss: 1.3933 - accuracy: 0.6060 - val_loss: 1.3442 - val_accuracy: 0.6177\n",
            "Epoch 11/50\n",
            "157/156 [==============================] - ETA: 0s - loss: 1.2758 - accuracy: 0.6373"
          ]
        },
        {
          "output_type": "stream",
          "name": "stderr",
          "text": [
            "WARNING:tensorflow:Early stopping conditioned on metric `val_acc` which is not available. Available metrics are: loss,accuracy,val_loss,val_accuracy\n"
          ]
        },
        {
          "output_type": "stream",
          "name": "stdout",
          "text": [
            "\b\b\b\b\b\b\b\b\b\b\b\b\b\b\b\b\b\b\b\b\b\b\b\b\b\b\b\b\b\b\b\b\b\b\b\b\b\b\b\b\b\b\b\b\b\b\b\b\b\b\b\b\b\b\b\b\b\b\b\b\b\b\b\b\b\b\b\b\b\b\b\b\b\b\b\b\b\b\b\b\b\b\b\b\r156/156 [==============================] - 22s 141ms/step - loss: 1.2758 - accuracy: 0.6373 - val_loss: 1.5573 - val_accuracy: 0.5648\n",
            "Epoch 12/50\n",
            "157/156 [==============================] - ETA: 0s - loss: 1.1465 - accuracy: 0.6698"
          ]
        },
        {
          "output_type": "stream",
          "name": "stderr",
          "text": [
            "WARNING:tensorflow:Early stopping conditioned on metric `val_acc` which is not available. Available metrics are: loss,accuracy,val_loss,val_accuracy\n"
          ]
        },
        {
          "output_type": "stream",
          "name": "stdout",
          "text": [
            "\b\b\b\b\b\b\b\b\b\b\b\b\b\b\b\b\b\b\b\b\b\b\b\b\b\b\b\b\b\b\b\b\b\b\b\b\b\b\b\b\b\b\b\b\b\b\b\b\b\b\b\b\b\b\b\b\b\b\b\b\b\b\b\b\b\b\b\b\b\b\b\b\b\b\b\b\b\b\b\b\b\b\b\b\r156/156 [==============================] - 21s 137ms/step - loss: 1.1465 - accuracy: 0.6698 - val_loss: 1.0834 - val_accuracy: 0.6854\n",
            "Epoch 13/50\n",
            "157/156 [==============================] - ETA: 0s - loss: 1.0427 - accuracy: 0.6965"
          ]
        },
        {
          "output_type": "stream",
          "name": "stderr",
          "text": [
            "WARNING:tensorflow:Early stopping conditioned on metric `val_acc` which is not available. Available metrics are: loss,accuracy,val_loss,val_accuracy\n"
          ]
        },
        {
          "output_type": "stream",
          "name": "stdout",
          "text": [
            "\b\b\b\b\b\b\b\b\b\b\b\b\b\b\b\b\b\b\b\b\b\b\b\b\b\b\b\b\b\b\b\b\b\b\b\b\b\b\b\b\b\b\b\b\b\b\b\b\b\b\b\b\b\b\b\b\b\b\b\b\b\b\b\b\b\b\b\b\b\b\b\b\b\b\b\b\b\b\b\b\b\b\b\b\r156/156 [==============================] - 21s 133ms/step - loss: 1.0427 - accuracy: 0.6965 - val_loss: 1.0608 - val_accuracy: 0.6931\n",
            "Epoch 14/50\n",
            "157/156 [==============================] - ETA: 0s - loss: 0.9362 - accuracy: 0.7234"
          ]
        },
        {
          "output_type": "stream",
          "name": "stderr",
          "text": [
            "WARNING:tensorflow:Early stopping conditioned on metric `val_acc` which is not available. Available metrics are: loss,accuracy,val_loss,val_accuracy\n"
          ]
        },
        {
          "output_type": "stream",
          "name": "stdout",
          "text": [
            "\b\b\b\b\b\b\b\b\b\b\b\b\b\b\b\b\b\b\b\b\b\b\b\b\b\b\b\b\b\b\b\b\b\b\b\b\b\b\b\b\b\b\b\b\b\b\b\b\b\b\b\b\b\b\b\b\b\b\b\b\b\b\b\b\b\b\b\b\b\b\b\b\b\b\b\b\b\b\b\b\b\b\b\b\r156/156 [==============================] - 21s 134ms/step - loss: 0.9362 - accuracy: 0.7234 - val_loss: 0.7845 - val_accuracy: 0.7690\n",
            "Epoch 15/50\n",
            "157/156 [==============================] - ETA: 0s - loss: 0.8349 - accuracy: 0.7542"
          ]
        },
        {
          "output_type": "stream",
          "name": "stderr",
          "text": [
            "WARNING:tensorflow:Early stopping conditioned on metric `val_acc` which is not available. Available metrics are: loss,accuracy,val_loss,val_accuracy\n"
          ]
        },
        {
          "output_type": "stream",
          "name": "stdout",
          "text": [
            "\b\b\b\b\b\b\b\b\b\b\b\b\b\b\b\b\b\b\b\b\b\b\b\b\b\b\b\b\b\b\b\b\b\b\b\b\b\b\b\b\b\b\b\b\b\b\b\b\b\b\b\b\b\b\b\b\b\b\b\b\b\b\b\b\b\b\b\b\b\b\b\b\b\b\b\b\b\b\b\b\b\b\b\b\r156/156 [==============================] - 21s 137ms/step - loss: 0.8349 - accuracy: 0.7542 - val_loss: 0.8715 - val_accuracy: 0.7412\n",
            "Epoch 16/50\n",
            "157/156 [==============================] - ETA: 0s - loss: 0.7451 - accuracy: 0.7774"
          ]
        },
        {
          "output_type": "stream",
          "name": "stderr",
          "text": [
            "WARNING:tensorflow:Early stopping conditioned on metric `val_acc` which is not available. Available metrics are: loss,accuracy,val_loss,val_accuracy\n"
          ]
        },
        {
          "output_type": "stream",
          "name": "stdout",
          "text": [
            "\b\b\b\b\b\b\b\b\b\b\b\b\b\b\b\b\b\b\b\b\b\b\b\b\b\b\b\b\b\b\b\b\b\b\b\b\b\b\b\b\b\b\b\b\b\b\b\b\b\b\b\b\b\b\b\b\b\b\b\b\b\b\b\b\b\b\b\b\b\b\b\b\b\b\b\b\b\b\b\b\b\b\b\b\r156/156 [==============================] - 22s 140ms/step - loss: 0.7451 - accuracy: 0.7774 - val_loss: 0.7124 - val_accuracy: 0.7836\n",
            "Epoch 17/50\n",
            "157/156 [==============================] - ETA: 0s - loss: 0.6662 - accuracy: 0.8019"
          ]
        },
        {
          "output_type": "stream",
          "name": "stderr",
          "text": [
            "WARNING:tensorflow:Early stopping conditioned on metric `val_acc` which is not available. Available metrics are: loss,accuracy,val_loss,val_accuracy\n"
          ]
        },
        {
          "output_type": "stream",
          "name": "stdout",
          "text": [
            "\b\b\b\b\b\b\b\b\b\b\b\b\b\b\b\b\b\b\b\b\b\b\b\b\b\b\b\b\b\b\b\b\b\b\b\b\b\b\b\b\b\b\b\b\b\b\b\b\b\b\b\b\b\b\b\b\b\b\b\b\b\b\b\b\b\b\b\b\b\b\b\b\b\b\b\b\b\b\b\b\b\b\b\b\r156/156 [==============================] - 22s 140ms/step - loss: 0.6662 - accuracy: 0.8019 - val_loss: 1.0800 - val_accuracy: 0.6897\n",
            "Epoch 18/50\n",
            "157/156 [==============================] - ETA: 0s - loss: 0.6137 - accuracy: 0.8137"
          ]
        },
        {
          "output_type": "stream",
          "name": "stderr",
          "text": [
            "WARNING:tensorflow:Early stopping conditioned on metric `val_acc` which is not available. Available metrics are: loss,accuracy,val_loss,val_accuracy\n"
          ]
        },
        {
          "output_type": "stream",
          "name": "stdout",
          "text": [
            "\b\b\b\b\b\b\b\b\b\b\b\b\b\b\b\b\b\b\b\b\b\b\b\b\b\b\b\b\b\b\b\b\b\b\b\b\b\b\b\b\b\b\b\b\b\b\b\b\b\b\b\b\b\b\b\b\b\b\b\b\b\b\b\b\b\b\b\b\b\b\b\b\b\b\b\b\b\b\b\b\b\b\b\b\r156/156 [==============================] - 32s 208ms/step - loss: 0.6137 - accuracy: 0.8137 - val_loss: 0.9585 - val_accuracy: 0.7178\n",
            "Epoch 19/50\n",
            "157/156 [==============================] - ETA: 0s - loss: 0.5414 - accuracy: 0.8371"
          ]
        },
        {
          "output_type": "stream",
          "name": "stderr",
          "text": [
            "WARNING:tensorflow:Early stopping conditioned on metric `val_acc` which is not available. Available metrics are: loss,accuracy,val_loss,val_accuracy\n"
          ]
        },
        {
          "output_type": "stream",
          "name": "stdout",
          "text": [
            "\b\b\b\b\b\b\b\b\b\b\b\b\b\b\b\b\b\b\b\b\b\b\b\b\b\b\b\b\b\b\b\b\b\b\b\b\b\b\b\b\b\b\b\b\b\b\b\b\b\b\b\b\b\b\b\b\b\b\b\b\b\b\b\b\b\b\b\b\b\b\b\b\b\b\b\b\b\b\b\b\b\b\b\b\r156/156 [==============================] - 21s 133ms/step - loss: 0.5414 - accuracy: 0.8371 - val_loss: 0.8197 - val_accuracy: 0.7575\n",
            "Epoch 20/50\n",
            "157/156 [==============================] - ETA: 0s - loss: 0.4762 - accuracy: 0.8556"
          ]
        },
        {
          "output_type": "stream",
          "name": "stderr",
          "text": [
            "WARNING:tensorflow:Early stopping conditioned on metric `val_acc` which is not available. Available metrics are: loss,accuracy,val_loss,val_accuracy\n"
          ]
        },
        {
          "output_type": "stream",
          "name": "stdout",
          "text": [
            "\b\b\b\b\b\b\b\b\b\b\b\b\b\b\b\b\b\b\b\b\b\b\b\b\b\b\b\b\b\b\b\b\b\b\b\b\b\b\b\b\b\b\b\b\b\b\b\b\b\b\b\b\b\b\b\b\b\b\b\b\b\b\b\b\b\b\b\b\b\b\b\b\b\b\b\b\b\b\b\b\b\b\b\b\r156/156 [==============================] - 27s 173ms/step - loss: 0.4762 - accuracy: 0.8556 - val_loss: 0.8953 - val_accuracy: 0.7408\n",
            "Epoch 21/50\n",
            "157/156 [==============================] - ETA: 0s - loss: 0.4418 - accuracy: 0.8641"
          ]
        },
        {
          "output_type": "stream",
          "name": "stderr",
          "text": [
            "WARNING:tensorflow:Early stopping conditioned on metric `val_acc` which is not available. Available metrics are: loss,accuracy,val_loss,val_accuracy\n"
          ]
        },
        {
          "output_type": "stream",
          "name": "stdout",
          "text": [
            "\b\b\b\b\b\b\b\b\b\b\b\b\b\b\b\b\b\b\b\b\b\b\b\b\b\b\b\b\b\b\b\b\b\b\b\b\b\b\b\b\b\b\b\b\b\b\b\b\b\b\b\b\b\b\b\b\b\b\b\b\b\b\b\b\b\b\b\b\b\b\b\b\b\b\b\b\b\b\b\b\b\b\b\b\r156/156 [==============================] - 23s 144ms/step - loss: 0.4418 - accuracy: 0.8641 - val_loss: 0.7000 - val_accuracy: 0.7909\n",
            "Epoch 22/50\n",
            "157/156 [==============================] - ETA: 0s - loss: 0.4001 - accuracy: 0.8770"
          ]
        },
        {
          "output_type": "stream",
          "name": "stderr",
          "text": [
            "WARNING:tensorflow:Early stopping conditioned on metric `val_acc` which is not available. Available metrics are: loss,accuracy,val_loss,val_accuracy\n"
          ]
        },
        {
          "output_type": "stream",
          "name": "stdout",
          "text": [
            "\b\b\b\b\b\b\b\b\b\b\b\b\b\b\b\b\b\b\b\b\b\b\b\b\b\b\b\b\b\b\b\b\b\b\b\b\b\b\b\b\b\b\b\b\b\b\b\b\b\b\b\b\b\b\b\b\b\b\b\b\b\b\b\b\b\b\b\b\b\b\b\b\b\b\b\b\b\b\b\b\b\b\b\b\r156/156 [==============================] - 28s 182ms/step - loss: 0.4001 - accuracy: 0.8770 - val_loss: 0.5398 - val_accuracy: 0.8340\n",
            "Epoch 23/50\n",
            "157/156 [==============================] - ETA: 0s - loss: 0.3618 - accuracy: 0.8878"
          ]
        },
        {
          "output_type": "stream",
          "name": "stderr",
          "text": [
            "WARNING:tensorflow:Early stopping conditioned on metric `val_acc` which is not available. Available metrics are: loss,accuracy,val_loss,val_accuracy\n"
          ]
        },
        {
          "output_type": "stream",
          "name": "stdout",
          "text": [
            "\b\b\b\b\b\b\b\b\b\b\b\b\b\b\b\b\b\b\b\b\b\b\b\b\b\b\b\b\b\b\b\b\b\b\b\b\b\b\b\b\b\b\b\b\b\b\b\b\b\b\b\b\b\b\b\b\b\b\b\b\b\b\b\b\b\b\b\b\b\b\b\b\b\b\b\b\b\b\b\b\b\b\b\b\r156/156 [==============================] - 22s 139ms/step - loss: 0.3618 - accuracy: 0.8878 - val_loss: 0.3180 - val_accuracy: 0.9033\n",
            "Epoch 24/50\n",
            "157/156 [==============================] - ETA: 0s - loss: 0.3325 - accuracy: 0.8975"
          ]
        },
        {
          "output_type": "stream",
          "name": "stderr",
          "text": [
            "WARNING:tensorflow:Early stopping conditioned on metric `val_acc` which is not available. Available metrics are: loss,accuracy,val_loss,val_accuracy\n"
          ]
        },
        {
          "output_type": "stream",
          "name": "stdout",
          "text": [
            "\b\b\b\b\b\b\b\b\b\b\b\b\b\b\b\b\b\b\b\b\b\b\b\b\b\b\b\b\b\b\b\b\b\b\b\b\b\b\b\b\b\b\b\b\b\b\b\b\b\b\b\b\b\b\b\b\b\b\b\b\b\b\b\b\b\b\b\b\b\b\b\b\b\b\b\b\b\b\b\b\b\b\b\b\r156/156 [==============================] - 22s 140ms/step - loss: 0.3325 - accuracy: 0.8975 - val_loss: 0.2969 - val_accuracy: 0.9062\n",
            "Epoch 25/50\n",
            "157/156 [==============================] - ETA: 0s - loss: 0.3108 - accuracy: 0.9047"
          ]
        },
        {
          "output_type": "stream",
          "name": "stderr",
          "text": [
            "WARNING:tensorflow:Early stopping conditioned on metric `val_acc` which is not available. Available metrics are: loss,accuracy,val_loss,val_accuracy\n"
          ]
        },
        {
          "output_type": "stream",
          "name": "stdout",
          "text": [
            "\b\b\b\b\b\b\b\b\b\b\b\b\b\b\b\b\b\b\b\b\b\b\b\b\b\b\b\b\b\b\b\b\b\b\b\b\b\b\b\b\b\b\b\b\b\b\b\b\b\b\b\b\b\b\b\b\b\b\b\b\b\b\b\b\b\b\b\b\b\b\b\b\b\b\b\b\b\b\b\b\b\b\b\b\r156/156 [==============================] - 22s 144ms/step - loss: 0.3108 - accuracy: 0.9047 - val_loss: 0.2716 - val_accuracy: 0.9157\n",
            "Epoch 26/50\n",
            "157/156 [==============================] - ETA: 0s - loss: 0.2943 - accuracy: 0.9095"
          ]
        },
        {
          "output_type": "stream",
          "name": "stderr",
          "text": [
            "WARNING:tensorflow:Early stopping conditioned on metric `val_acc` which is not available. Available metrics are: loss,accuracy,val_loss,val_accuracy\n"
          ]
        },
        {
          "output_type": "stream",
          "name": "stdout",
          "text": [
            "\b\b\b\b\b\b\b\b\b\b\b\b\b\b\b\b\b\b\b\b\b\b\b\b\b\b\b\b\b\b\b\b\b\b\b\b\b\b\b\b\b\b\b\b\b\b\b\b\b\b\b\b\b\b\b\b\b\b\b\b\b\b\b\b\b\b\b\b\b\b\b\b\b\b\b\b\b\b\b\b\b\b\b\b\r156/156 [==============================] - 22s 139ms/step - loss: 0.2943 - accuracy: 0.9095 - val_loss: 0.3602 - val_accuracy: 0.8867\n",
            "Epoch 27/50\n",
            "157/156 [==============================] - ETA: 0s - loss: 0.2765 - accuracy: 0.9132"
          ]
        },
        {
          "output_type": "stream",
          "name": "stderr",
          "text": [
            "WARNING:tensorflow:Early stopping conditioned on metric `val_acc` which is not available. Available metrics are: loss,accuracy,val_loss,val_accuracy\n"
          ]
        },
        {
          "output_type": "stream",
          "name": "stdout",
          "text": [
            "\b\b\b\b\b\b\b\b\b\b\b\b\b\b\b\b\b\b\b\b\b\b\b\b\b\b\b\b\b\b\b\b\b\b\b\b\b\b\b\b\b\b\b\b\b\b\b\b\b\b\b\b\b\b\b\b\b\b\b\b\b\b\b\b\b\b\b\b\b\b\b\b\b\b\b\b\b\b\b\b\b\b\b\b\r156/156 [==============================] - 23s 148ms/step - loss: 0.2765 - accuracy: 0.9132 - val_loss: 0.5265 - val_accuracy: 0.8422\n",
            "Epoch 28/50\n",
            "157/156 [==============================] - ETA: 0s - loss: 0.2638 - accuracy: 0.9166"
          ]
        },
        {
          "output_type": "stream",
          "name": "stderr",
          "text": [
            "WARNING:tensorflow:Early stopping conditioned on metric `val_acc` which is not available. Available metrics are: loss,accuracy,val_loss,val_accuracy\n"
          ]
        },
        {
          "output_type": "stream",
          "name": "stdout",
          "text": [
            "\b\b\b\b\b\b\b\b\b\b\b\b\b\b\b\b\b\b\b\b\b\b\b\b\b\b\b\b\b\b\b\b\b\b\b\b\b\b\b\b\b\b\b\b\b\b\b\b\b\b\b\b\b\b\b\b\b\b\b\b\b\b\b\b\b\b\b\b\b\b\b\b\b\b\b\b\b\b\b\b\b\b\b\b\r156/156 [==============================] - 21s 137ms/step - loss: 0.2638 - accuracy: 0.9166 - val_loss: 0.5585 - val_accuracy: 0.8289\n",
            "Epoch 29/50\n",
            "157/156 [==============================] - ETA: 0s - loss: 0.2336 - accuracy: 0.9269"
          ]
        },
        {
          "output_type": "stream",
          "name": "stderr",
          "text": [
            "WARNING:tensorflow:Early stopping conditioned on metric `val_acc` which is not available. Available metrics are: loss,accuracy,val_loss,val_accuracy\n"
          ]
        },
        {
          "output_type": "stream",
          "name": "stdout",
          "text": [
            "\b\b\b\b\b\b\b\b\b\b\b\b\b\b\b\b\b\b\b\b\b\b\b\b\b\b\b\b\b\b\b\b\b\b\b\b\b\b\b\b\b\b\b\b\b\b\b\b\b\b\b\b\b\b\b\b\b\b\b\b\b\b\b\b\b\b\b\b\b\b\b\b\b\b\b\b\b\b\b\b\b\b\b\b\r156/156 [==============================] - 21s 135ms/step - loss: 0.2336 - accuracy: 0.9269 - val_loss: 0.5563 - val_accuracy: 0.8284\n",
            "Epoch 30/50\n",
            "157/156 [==============================] - ETA: 0s - loss: 0.2384 - accuracy: 0.9257"
          ]
        },
        {
          "output_type": "stream",
          "name": "stderr",
          "text": [
            "WARNING:tensorflow:Early stopping conditioned on metric `val_acc` which is not available. Available metrics are: loss,accuracy,val_loss,val_accuracy\n"
          ]
        },
        {
          "output_type": "stream",
          "name": "stdout",
          "text": [
            "\b\b\b\b\b\b\b\b\b\b\b\b\b\b\b\b\b\b\b\b\b\b\b\b\b\b\b\b\b\b\b\b\b\b\b\b\b\b\b\b\b\b\b\b\b\b\b\b\b\b\b\b\b\b\b\b\b\b\b\b\b\b\b\b\b\b\b\b\b\b\b\b\b\b\b\b\b\b\b\b\b\b\b\b\r156/156 [==============================] - 21s 136ms/step - loss: 0.2384 - accuracy: 0.9257 - val_loss: 0.3697 - val_accuracy: 0.8836\n",
            "Epoch 31/50\n",
            "157/156 [==============================] - ETA: 0s - loss: 0.2212 - accuracy: 0.9315"
          ]
        },
        {
          "output_type": "stream",
          "name": "stderr",
          "text": [
            "WARNING:tensorflow:Early stopping conditioned on metric `val_acc` which is not available. Available metrics are: loss,accuracy,val_loss,val_accuracy\n"
          ]
        },
        {
          "output_type": "stream",
          "name": "stdout",
          "text": [
            "\b\b\b\b\b\b\b\b\b\b\b\b\b\b\b\b\b\b\b\b\b\b\b\b\b\b\b\b\b\b\b\b\b\b\b\b\b\b\b\b\b\b\b\b\b\b\b\b\b\b\b\b\b\b\b\b\b\b\b\b\b\b\b\b\b\b\b\b\b\b\b\b\b\b\b\b\b\b\b\b\b\b\b\b\r156/156 [==============================] - 21s 136ms/step - loss: 0.2212 - accuracy: 0.9315 - val_loss: 0.4726 - val_accuracy: 0.8593\n",
            "Epoch 32/50\n",
            "157/156 [==============================] - ETA: 0s - loss: 0.2198 - accuracy: 0.9295"
          ]
        },
        {
          "output_type": "stream",
          "name": "stderr",
          "text": [
            "WARNING:tensorflow:Early stopping conditioned on metric `val_acc` which is not available. Available metrics are: loss,accuracy,val_loss,val_accuracy\n"
          ]
        },
        {
          "output_type": "stream",
          "name": "stdout",
          "text": [
            "\b\b\b\b\b\b\b\b\b\b\b\b\b\b\b\b\b\b\b\b\b\b\b\b\b\b\b\b\b\b\b\b\b\b\b\b\b\b\b\b\b\b\b\b\b\b\b\b\b\b\b\b\b\b\b\b\b\b\b\b\b\b\b\b\b\b\b\b\b\b\b\b\b\b\b\b\b\b\b\b\b\b\b\b\r156/156 [==============================] - 20s 131ms/step - loss: 0.2198 - accuracy: 0.9295 - val_loss: 0.3190 - val_accuracy: 0.8964\n",
            "Epoch 33/50\n",
            "157/156 [==============================] - ETA: 0s - loss: 0.2029 - accuracy: 0.9360"
          ]
        },
        {
          "output_type": "stream",
          "name": "stderr",
          "text": [
            "WARNING:tensorflow:Early stopping conditioned on metric `val_acc` which is not available. Available metrics are: loss,accuracy,val_loss,val_accuracy\n"
          ]
        },
        {
          "output_type": "stream",
          "name": "stdout",
          "text": [
            "\b\b\b\b\b\b\b\b\b\b\b\b\b\b\b\b\b\b\b\b\b\b\b\b\b\b\b\b\b\b\b\b\b\b\b\b\b\b\b\b\b\b\b\b\b\b\b\b\b\b\b\b\b\b\b\b\b\b\b\b\b\b\b\b\b\b\b\b\b\b\b\b\b\b\b\b\b\b\b\b\b\b\b\b\r156/156 [==============================] - 21s 137ms/step - loss: 0.2029 - accuracy: 0.9360 - val_loss: 0.4059 - val_accuracy: 0.8834\n",
            "Epoch 34/50\n",
            "157/156 [==============================] - ETA: 0s - loss: 0.2131 - accuracy: 0.9329"
          ]
        },
        {
          "output_type": "stream",
          "name": "stderr",
          "text": [
            "WARNING:tensorflow:Early stopping conditioned on metric `val_acc` which is not available. Available metrics are: loss,accuracy,val_loss,val_accuracy\n"
          ]
        },
        {
          "output_type": "stream",
          "name": "stdout",
          "text": [
            "\b\b\b\b\b\b\b\b\b\b\b\b\b\b\b\b\b\b\b\b\b\b\b\b\b\b\b\b\b\b\b\b\b\b\b\b\b\b\b\b\b\b\b\b\b\b\b\b\b\b\b\b\b\b\b\b\b\b\b\b\b\b\b\b\b\b\b\b\b\b\b\b\b\b\b\b\b\b\b\b\b\b\b\b\r156/156 [==============================] - 22s 140ms/step - loss: 0.2131 - accuracy: 0.9329 - val_loss: 0.4360 - val_accuracy: 0.8669\n",
            "Epoch 35/50\n",
            "157/156 [==============================] - ETA: 0s - loss: 0.1941 - accuracy: 0.9388"
          ]
        },
        {
          "output_type": "stream",
          "name": "stderr",
          "text": [
            "WARNING:tensorflow:Early stopping conditioned on metric `val_acc` which is not available. Available metrics are: loss,accuracy,val_loss,val_accuracy\n"
          ]
        },
        {
          "output_type": "stream",
          "name": "stdout",
          "text": [
            "\b\b\b\b\b\b\b\b\b\b\b\b\b\b\b\b\b\b\b\b\b\b\b\b\b\b\b\b\b\b\b\b\b\b\b\b\b\b\b\b\b\b\b\b\b\b\b\b\b\b\b\b\b\b\b\b\b\b\b\b\b\b\b\b\b\b\b\b\b\b\b\b\b\b\b\b\b\b\b\b\b\b\b\b\r156/156 [==============================] - 21s 132ms/step - loss: 0.1941 - accuracy: 0.9388 - val_loss: 0.1724 - val_accuracy: 0.9459\n",
            "Epoch 36/50\n",
            "157/156 [==============================] - ETA: 0s - loss: 0.1900 - accuracy: 0.9405"
          ]
        },
        {
          "output_type": "stream",
          "name": "stderr",
          "text": [
            "WARNING:tensorflow:Early stopping conditioned on metric `val_acc` which is not available. Available metrics are: loss,accuracy,val_loss,val_accuracy\n"
          ]
        },
        {
          "output_type": "stream",
          "name": "stdout",
          "text": [
            "\b\b\b\b\b\b\b\b\b\b\b\b\b\b\b\b\b\b\b\b\b\b\b\b\b\b\b\b\b\b\b\b\b\b\b\b\b\b\b\b\b\b\b\b\b\b\b\b\b\b\b\b\b\b\b\b\b\b\b\b\b\b\b\b\b\b\b\b\b\b\b\b\b\b\b\b\b\b\b\b\b\b\b\b\r156/156 [==============================] - 21s 136ms/step - loss: 0.1900 - accuracy: 0.9405 - val_loss: 0.2413 - val_accuracy: 0.9234\n",
            "Epoch 37/50\n",
            "157/156 [==============================] - ETA: 0s - loss: 0.1843 - accuracy: 0.9409"
          ]
        },
        {
          "output_type": "stream",
          "name": "stderr",
          "text": [
            "WARNING:tensorflow:Early stopping conditioned on metric `val_acc` which is not available. Available metrics are: loss,accuracy,val_loss,val_accuracy\n"
          ]
        },
        {
          "output_type": "stream",
          "name": "stdout",
          "text": [
            "\b\b\b\b\b\b\b\b\b\b\b\b\b\b\b\b\b\b\b\b\b\b\b\b\b\b\b\b\b\b\b\b\b\b\b\b\b\b\b\b\b\b\b\b\b\b\b\b\b\b\b\b\b\b\b\b\b\b\b\b\b\b\b\b\b\b\b\b\b\b\b\b\b\b\b\b\b\b\b\b\b\b\b\b\r156/156 [==============================] - 21s 133ms/step - loss: 0.1843 - accuracy: 0.9409 - val_loss: 0.3427 - val_accuracy: 0.8944\n",
            "Epoch 38/50\n",
            "157/156 [==============================] - ETA: 0s - loss: 0.1667 - accuracy: 0.9475"
          ]
        },
        {
          "output_type": "stream",
          "name": "stderr",
          "text": [
            "WARNING:tensorflow:Early stopping conditioned on metric `val_acc` which is not available. Available metrics are: loss,accuracy,val_loss,val_accuracy\n"
          ]
        },
        {
          "output_type": "stream",
          "name": "stdout",
          "text": [
            "\b\b\b\b\b\b\b\b\b\b\b\b\b\b\b\b\b\b\b\b\b\b\b\b\b\b\b\b\b\b\b\b\b\b\b\b\b\b\b\b\b\b\b\b\b\b\b\b\b\b\b\b\b\b\b\b\b\b\b\b\b\b\b\b\b\b\b\b\b\b\b\b\b\b\b\b\b\b\b\b\b\b\b\b\r156/156 [==============================] - 21s 137ms/step - loss: 0.1667 - accuracy: 0.9475 - val_loss: 0.2944 - val_accuracy: 0.9053\n",
            "Epoch 39/50\n",
            "157/156 [==============================] - ETA: 0s - loss: 0.1651 - accuracy: 0.9479"
          ]
        },
        {
          "output_type": "stream",
          "name": "stderr",
          "text": [
            "WARNING:tensorflow:Early stopping conditioned on metric `val_acc` which is not available. Available metrics are: loss,accuracy,val_loss,val_accuracy\n"
          ]
        },
        {
          "output_type": "stream",
          "name": "stdout",
          "text": [
            "\b\b\b\b\b\b\b\b\b\b\b\b\b\b\b\b\b\b\b\b\b\b\b\b\b\b\b\b\b\b\b\b\b\b\b\b\b\b\b\b\b\b\b\b\b\b\b\b\b\b\b\b\b\b\b\b\b\b\b\b\b\b\b\b\b\b\b\b\b\b\b\b\b\b\b\b\b\b\b\b\b\b\b\b\r156/156 [==============================] - 21s 137ms/step - loss: 0.1651 - accuracy: 0.9479 - val_loss: 0.1775 - val_accuracy: 0.9434\n",
            "Epoch 40/50\n",
            "157/156 [==============================] - ETA: 0s - loss: 0.1561 - accuracy: 0.9487"
          ]
        },
        {
          "output_type": "stream",
          "name": "stderr",
          "text": [
            "WARNING:tensorflow:Early stopping conditioned on metric `val_acc` which is not available. Available metrics are: loss,accuracy,val_loss,val_accuracy\n"
          ]
        },
        {
          "output_type": "stream",
          "name": "stdout",
          "text": [
            "\b\b\b\b\b\b\b\b\b\b\b\b\b\b\b\b\b\b\b\b\b\b\b\b\b\b\b\b\b\b\b\b\b\b\b\b\b\b\b\b\b\b\b\b\b\b\b\b\b\b\b\b\b\b\b\b\b\b\b\b\b\b\b\b\b\b\b\b\b\b\b\b\b\b\b\b\b\b\b\b\b\b\b\b\r156/156 [==============================] - 22s 139ms/step - loss: 0.1561 - accuracy: 0.9487 - val_loss: 0.2388 - val_accuracy: 0.9226\n",
            "Epoch 41/50\n",
            "157/156 [==============================] - ETA: 0s - loss: 0.1888 - accuracy: 0.9396"
          ]
        },
        {
          "output_type": "stream",
          "name": "stderr",
          "text": [
            "WARNING:tensorflow:Early stopping conditioned on metric `val_acc` which is not available. Available metrics are: loss,accuracy,val_loss,val_accuracy\n"
          ]
        },
        {
          "output_type": "stream",
          "name": "stdout",
          "text": [
            "\b\b\b\b\b\b\b\b\b\b\b\b\b\b\b\b\b\b\b\b\b\b\b\b\b\b\b\b\b\b\b\b\b\b\b\b\b\b\b\b\b\b\b\b\b\b\b\b\b\b\b\b\b\b\b\b\b\b\b\b\b\b\b\b\b\b\b\b\b\b\b\b\b\b\b\b\b\b\b\b\b\b\b\b\r156/156 [==============================] - 21s 132ms/step - loss: 0.1888 - accuracy: 0.9396 - val_loss: 0.1330 - val_accuracy: 0.9575\n",
            "Epoch 42/50\n",
            "157/156 [==============================] - ETA: 0s - loss: 0.1639 - accuracy: 0.9477"
          ]
        },
        {
          "output_type": "stream",
          "name": "stderr",
          "text": [
            "WARNING:tensorflow:Early stopping conditioned on metric `val_acc` which is not available. Available metrics are: loss,accuracy,val_loss,val_accuracy\n"
          ]
        },
        {
          "output_type": "stream",
          "name": "stdout",
          "text": [
            "\b\b\b\b\b\b\b\b\b\b\b\b\b\b\b\b\b\b\b\b\b\b\b\b\b\b\b\b\b\b\b\b\b\b\b\b\b\b\b\b\b\b\b\b\b\b\b\b\b\b\b\b\b\b\b\b\b\b\b\b\b\b\b\b\b\b\b\b\b\b\b\b\b\b\b\b\b\b\b\b\b\b\b\b\r156/156 [==============================] - 22s 138ms/step - loss: 0.1639 - accuracy: 0.9477 - val_loss: 0.3072 - val_accuracy: 0.9056\n",
            "Epoch 43/50\n",
            "157/156 [==============================] - ETA: 0s - loss: 0.1755 - accuracy: 0.9429"
          ]
        },
        {
          "output_type": "stream",
          "name": "stderr",
          "text": [
            "WARNING:tensorflow:Early stopping conditioned on metric `val_acc` which is not available. Available metrics are: loss,accuracy,val_loss,val_accuracy\n"
          ]
        },
        {
          "output_type": "stream",
          "name": "stdout",
          "text": [
            "\b\b\b\b\b\b\b\b\b\b\b\b\b\b\b\b\b\b\b\b\b\b\b\b\b\b\b\b\b\b\b\b\b\b\b\b\b\b\b\b\b\b\b\b\b\b\b\b\b\b\b\b\b\b\b\b\b\b\b\b\b\b\b\b\b\b\b\b\b\b\b\b\b\b\b\b\b\b\b\b\b\b\b\b\r156/156 [==============================] - 21s 136ms/step - loss: 0.1755 - accuracy: 0.9429 - val_loss: 0.2164 - val_accuracy: 0.9311\n",
            "Epoch 44/50\n",
            "157/156 [==============================] - ETA: 0s - loss: 0.1501 - accuracy: 0.9523"
          ]
        },
        {
          "output_type": "stream",
          "name": "stderr",
          "text": [
            "WARNING:tensorflow:Early stopping conditioned on metric `val_acc` which is not available. Available metrics are: loss,accuracy,val_loss,val_accuracy\n"
          ]
        },
        {
          "output_type": "stream",
          "name": "stdout",
          "text": [
            "\b\b\b\b\b\b\b\b\b\b\b\b\b\b\b\b\b\b\b\b\b\b\b\b\b\b\b\b\b\b\b\b\b\b\b\b\b\b\b\b\b\b\b\b\b\b\b\b\b\b\b\b\b\b\b\b\b\b\b\b\b\b\b\b\b\b\b\b\b\b\b\b\b\b\b\b\b\b\b\b\b\b\b\b\r156/156 [==============================] - 22s 139ms/step - loss: 0.1501 - accuracy: 0.9523 - val_loss: 0.1964 - val_accuracy: 0.9366\n",
            "Epoch 45/50\n",
            "157/156 [==============================] - ETA: 0s - loss: 0.1442 - accuracy: 0.9533"
          ]
        },
        {
          "output_type": "stream",
          "name": "stderr",
          "text": [
            "WARNING:tensorflow:Early stopping conditioned on metric `val_acc` which is not available. Available metrics are: loss,accuracy,val_loss,val_accuracy\n"
          ]
        },
        {
          "output_type": "stream",
          "name": "stdout",
          "text": [
            "\b\b\b\b\b\b\b\b\b\b\b\b\b\b\b\b\b\b\b\b\b\b\b\b\b\b\b\b\b\b\b\b\b\b\b\b\b\b\b\b\b\b\b\b\b\b\b\b\b\b\b\b\b\b\b\b\b\b\b\b\b\b\b\b\b\b\b\b\b\b\b\b\b\b\b\b\b\b\b\b\b\b\b\b\r156/156 [==============================] - 22s 139ms/step - loss: 0.1442 - accuracy: 0.9533 - val_loss: 0.5006 - val_accuracy: 0.8572\n",
            "Epoch 46/50\n",
            "157/156 [==============================] - ETA: 0s - loss: 0.1453 - accuracy: 0.9537"
          ]
        },
        {
          "output_type": "stream",
          "name": "stderr",
          "text": [
            "WARNING:tensorflow:Early stopping conditioned on metric `val_acc` which is not available. Available metrics are: loss,accuracy,val_loss,val_accuracy\n"
          ]
        },
        {
          "output_type": "stream",
          "name": "stdout",
          "text": [
            "\b\b\b\b\b\b\b\b\b\b\b\b\b\b\b\b\b\b\b\b\b\b\b\b\b\b\b\b\b\b\b\b\b\b\b\b\b\b\b\b\b\b\b\b\b\b\b\b\b\b\b\b\b\b\b\b\b\b\b\b\b\b\b\b\b\b\b\b\b\b\b\b\b\b\b\b\b\b\b\b\b\b\b\b\r156/156 [==============================] - 21s 134ms/step - loss: 0.1453 - accuracy: 0.9537 - val_loss: 0.2455 - val_accuracy: 0.9231\n",
            "Epoch 47/50\n",
            "157/156 [==============================] - ETA: 0s - loss: 0.1380 - accuracy: 0.9554"
          ]
        },
        {
          "output_type": "stream",
          "name": "stderr",
          "text": [
            "WARNING:tensorflow:Early stopping conditioned on metric `val_acc` which is not available. Available metrics are: loss,accuracy,val_loss,val_accuracy\n"
          ]
        },
        {
          "output_type": "stream",
          "name": "stdout",
          "text": [
            "\b\b\b\b\b\b\b\b\b\b\b\b\b\b\b\b\b\b\b\b\b\b\b\b\b\b\b\b\b\b\b\b\b\b\b\b\b\b\b\b\b\b\b\b\b\b\b\b\b\b\b\b\b\b\b\b\b\b\b\b\b\b\b\b\b\b\b\b\b\b\b\b\b\b\b\b\b\b\b\b\b\b\b\b\r156/156 [==============================] - 22s 139ms/step - loss: 0.1380 - accuracy: 0.9554 - val_loss: 0.2687 - val_accuracy: 0.9194\n",
            "Epoch 48/50\n",
            "157/156 [==============================] - ETA: 0s - loss: 0.1259 - accuracy: 0.9591"
          ]
        },
        {
          "output_type": "stream",
          "name": "stderr",
          "text": [
            "WARNING:tensorflow:Early stopping conditioned on metric `val_acc` which is not available. Available metrics are: loss,accuracy,val_loss,val_accuracy\n"
          ]
        },
        {
          "output_type": "stream",
          "name": "stdout",
          "text": [
            "\b\b\b\b\b\b\b\b\b\b\b\b\b\b\b\b\b\b\b\b\b\b\b\b\b\b\b\b\b\b\b\b\b\b\b\b\b\b\b\b\b\b\b\b\b\b\b\b\b\b\b\b\b\b\b\b\b\b\b\b\b\b\b\b\b\b\b\b\b\b\b\b\b\b\b\b\b\b\b\b\b\b\b\b\r156/156 [==============================] - 23s 144ms/step - loss: 0.1259 - accuracy: 0.9591 - val_loss: 0.1285 - val_accuracy: 0.9586\n",
            "Epoch 49/50\n",
            "157/156 [==============================] - ETA: 0s - loss: 0.1364 - accuracy: 0.9565"
          ]
        },
        {
          "output_type": "stream",
          "name": "stderr",
          "text": [
            "WARNING:tensorflow:Early stopping conditioned on metric `val_acc` which is not available. Available metrics are: loss,accuracy,val_loss,val_accuracy\n"
          ]
        },
        {
          "output_type": "stream",
          "name": "stdout",
          "text": [
            "\b\b\b\b\b\b\b\b\b\b\b\b\b\b\b\b\b\b\b\b\b\b\b\b\b\b\b\b\b\b\b\b\b\b\b\b\b\b\b\b\b\b\b\b\b\b\b\b\b\b\b\b\b\b\b\b\b\b\b\b\b\b\b\b\b\b\b\b\b\b\b\b\b\b\b\b\b\b\b\b\b\b\b\b\r156/156 [==============================] - 21s 134ms/step - loss: 0.1364 - accuracy: 0.9565 - val_loss: 0.3086 - val_accuracy: 0.9034\n",
            "Epoch 50/50\n",
            "157/156 [==============================] - ETA: 0s - loss: 0.1518 - accuracy: 0.9511"
          ]
        },
        {
          "output_type": "stream",
          "name": "stderr",
          "text": [
            "WARNING:tensorflow:Early stopping conditioned on metric `val_acc` which is not available. Available metrics are: loss,accuracy,val_loss,val_accuracy\n"
          ]
        },
        {
          "output_type": "stream",
          "name": "stdout",
          "text": [
            "\b\b\b\b\b\b\b\b\b\b\b\b\b\b\b\b\b\b\b\b\b\b\b\b\b\b\b\b\b\b\b\b\b\b\b\b\b\b\b\b\b\b\b\b\b\b\b\b\b\b\b\b\b\b\b\b\b\b\b\b\b\b\b\b\b\b\b\b\b\b\b\b\b\b\b\b\b\b\b\b\b\b\b\b\r156/156 [==============================] - 22s 143ms/step - loss: 0.1518 - accuracy: 0.9511 - val_loss: 0.6316 - val_accuracy: 0.8391\n"
          ]
        }
      ]
    },
    {
      "cell_type": "code",
      "source": [
        "def plotmodelhistory(history): \n",
        "    fig, axs = plt.subplots(1,2,figsize=(15,5)) \n",
        "    # summarize history for accuracy\n",
        "    axs[0].plot(history.history['accuracy']) \n",
        "    axs[0].plot(history.history['val_accuracy']) \n",
        "    axs[0].set_title('Model Accuracy')\n",
        "    axs[0].set_ylabel('Accuracy') \n",
        "    axs[0].set_xlabel('Epoch')\n",
        "    \n",
        "    axs[0].legend(['train', 'validate'], loc='upper left')\n",
        "    # summarize history for loss\n",
        "    axs[1].plot(history.history['loss']) \n",
        "    axs[1].plot(history.history['val_loss']) \n",
        "    axs[1].set_title('Model Loss')\n",
        "    axs[1].set_ylabel('Loss') \n",
        "    axs[1].set_xlabel('Epoch')\n",
        "    axs[1].legend(['train', 'validate'], loc='upper left')\n",
        "    plt.show()\n",
        "\n",
        "# list all data in history\n",
        "print(history.history.keys())\n",
        "plotmodelhistory(history)"
      ],
      "metadata": {
        "colab": {
          "base_uri": "https://localhost:8080/",
          "height": 476
        },
        "id": "7mTh-HgEbmTG",
        "outputId": "0f5e46c8-671a-47cf-9d03-584d001893fa"
      },
      "execution_count": null,
      "outputs": [
        {
          "output_type": "stream",
          "name": "stdout",
          "text": [
            "dict_keys(['loss', 'accuracy', 'val_loss', 'val_accuracy'])\n"
          ]
        },
        {
          "output_type": "display_data",
          "data": {
            "text/plain": [
              "<Figure size 1500x500 with 2 Axes>"
            ],
            "image/png": "[encoded data removed]"
          },
          "metadata": {}
        }
      ]
    },
    {
      "cell_type": "code",
      "source": [
        "\n",
        "ModelLoss, ModelAccuracy = model.evaluate(X_train, Y_train)\n",
        "\n",
        "print('Model Loss is {}'.format(ModelLoss))\n",
        "print('Model Accuracy is {}'.format(ModelAccuracy))"
      ],
      "metadata": {
        "colab": {
          "base_uri": "https://localhost:8080/"
        },
        "id": "0OyEJWBmbmWn",
        "outputId": "108b8305-66d1-4878-8a1f-7e0061433462"
      },
      "execution_count": null,
      "outputs": [
        {
          "output_type": "stream",
          "name": "stdout",
          "text": [
            "1250/1250 [==============================] - 6s 4ms/step - loss: 0.6316 - accuracy: 0.8391\n",
            "Model Loss is 0.6316332817077637\n",
            "Model Accuracy is 0.8391000032424927\n"
          ]
        }
      ]
    },
    {
      "cell_type": "code",
      "source": [
        "# Assuming you have trained the model and stored it in the 'model' variable\n",
        "from sklearn.metrics import confusion_matrix\n",
        "# Make predictions on the test set\n",
        "Y_pred = model.predict(X_test)\n",
        "# Convert the one-hot encoded predictions and true labels to their original form\n",
        "Y_pred_labels = np.argmax(Y_pred, axis=1)\n",
        "Y_true_labels = np.argmax(Y_test, axis=1)\n",
        "\n",
        "# Calculate the confusion matrix\n",
        "confusion_mat = confusion_matrix(Y_true_labels, Y_pred_labels)\n",
        "print(\"Confusion Matrix:\")\n",
        "print(confusion_mat)\n"
      ],
      "metadata": {
        "colab": {
          "base_uri": "https://localhost:8080/"
        },
        "id": "LqAtIvcQTaLu",
        "outputId": "070472b0-9d09-4a6a-9b05-6c5ff8133c9f"
      },
      "execution_count": null,
      "outputs": [
        {
          "output_type": "stream",
          "name": "stdout",
          "text": [
            "313/313 [==============================] - 2s 6ms/step\n",
            "Confusion Matrix:\n",
            "[[73  0  0 ...  0  0  0]\n",
            " [ 0 37  0 ...  0  2  0]\n",
            " [ 0  0 23 ...  1  2  0]\n",
            " ...\n",
            " [ 0  0  2 ... 32  0  1]\n",
            " [ 0  0  2 ...  0 17  0]\n",
            " [ 0  0  0 ...  0  1 31]]\n"
          ]
        }
      ]
    },
    {
      "cell_type": "code",
      "execution_count": null,
      "metadata": {
        "id": "ZS0iXlcXsrM0",
        "colab": {
          "base_uri": "https://localhost:8080/",
          "height": 1000
        },
        "outputId": "28d82132-7022-4449-f02d-7636d9daff17"
      },
      "outputs": [
        {
          "output_type": "error",
          "ename": "ValueError",
          "evalue": "ignored",
          "traceback": [
            "\u001b[0;31m---------------------------------------------------------------------------\u001b[0m",
            "\u001b[0;31mValueError\u001b[0m                                Traceback (most recent call last)",
            "\u001b[0;32m<ipython-input-27-bdfae9e08c3f>\u001b[0m in \u001b[0;36m<cell line: 6>\u001b[0;34m()\u001b[0m\n\u001b[1;32m      4\u001b[0m \u001b[0;31m# Plot confusion matrix\u001b[0m\u001b[0;34m\u001b[0m\u001b[0;34m\u001b[0m\u001b[0m\n\u001b[1;32m      5\u001b[0m \u001b[0mplt\u001b[0m\u001b[0;34m.\u001b[0m\u001b[0mfigure\u001b[0m\u001b[0;34m(\u001b[0m\u001b[0mfigsize\u001b[0m\u001b[0;34m=\u001b[0m\u001b[0;34m(\u001b[0m\u001b[0;36m12\u001b[0m\u001b[0;34m,\u001b[0m \u001b[0;36m10\u001b[0m\u001b[0;34m)\u001b[0m\u001b[0;34m)\u001b[0m\u001b[0;34m\u001b[0m\u001b[0;34m\u001b[0m\u001b[0m\n\u001b[0;32m----> 6\u001b[0;31m \u001b[0msns\u001b[0m\u001b[0;34m.\u001b[0m\u001b[0mheatmap\u001b[0m\u001b[0;34m(\u001b[0m\u001b[0mconfusion_mat\u001b[0m\u001b[0;34m,\u001b[0m \u001b[0mannot\u001b[0m\u001b[0;34m=\u001b[0m\u001b[0;32mTrue\u001b[0m\u001b[0;34m,\u001b[0m \u001b[0mcmap\u001b[0m\u001b[0;34m=\u001b[0m\u001b[0;34m'RdYlGn'\u001b[0m\u001b[0;34m,\u001b[0m \u001b[0mfmt\u001b[0m\u001b[0;34m=\u001b[0m\u001b[0;34m'd'\u001b[0m\u001b[0;34m)\u001b[0m\u001b[0;34m\u001b[0m\u001b[0;34m\u001b[0m\u001b[0m\n\u001b[0m\u001b[1;32m      7\u001b[0m \u001b[0mplt\u001b[0m\u001b[0;34m.\u001b[0m\u001b[0mtitle\u001b[0m\u001b[0;34m(\u001b[0m\u001b[0;34m'Normalized Confusion Matrix'\u001b[0m\u001b[0;34m)\u001b[0m\u001b[0;34m\u001b[0m\u001b[0;34m\u001b[0m\u001b[0m\n\u001b[1;32m      8\u001b[0m \u001b[0mplt\u001b[0m\u001b[0;34m.\u001b[0m\u001b[0mxlabel\u001b[0m\u001b[0;34m(\u001b[0m\u001b[0;34m'Predicted Label'\u001b[0m\u001b[0;34m)\u001b[0m\u001b[0;34m\u001b[0m\u001b[0;34m\u001b[0m\u001b[0m\n",
            "\u001b[0;32m/usr/local/lib/python3.10/dist-packages/seaborn/matrix.py\u001b[0m in \u001b[0;36mheatmap\u001b[0;34m(data, vmin, vmax, cmap, center, robust, annot, fmt, annot_kws, linewidths, linecolor, cbar, cbar_kws, cbar_ax, square, xticklabels, yticklabels, mask, ax, **kwargs)\u001b[0m\n\u001b[1;32m    457\u001b[0m     \u001b[0;32mif\u001b[0m \u001b[0msquare\u001b[0m\u001b[0;34m:\u001b[0m\u001b[0;34m\u001b[0m\u001b[0;34m\u001b[0m\u001b[0m\n\u001b[1;32m    458\u001b[0m         \u001b[0max\u001b[0m\u001b[0;34m.\u001b[0m\u001b[0mset_aspect\u001b[0m\u001b[0;34m(\u001b[0m\u001b[0;34m\"equal\"\u001b[0m\u001b[0;34m)\u001b[0m\u001b[0;34m\u001b[0m\u001b[0;34m\u001b[0m\u001b[0m\n\u001b[0;32m--> 459\u001b[0;31m     \u001b[0mplotter\u001b[0m\u001b[0;34m.\u001b[0m\u001b[0mplot\u001b[0m\u001b[0;34m(\u001b[0m\u001b[0max\u001b[0m\u001b[0;34m,\u001b[0m \u001b[0mcbar_ax\u001b[0m\u001b[0;34m,\u001b[0m \u001b[0mkwargs\u001b[0m\u001b[0;34m)\u001b[0m\u001b[0;34m\u001b[0m\u001b[0;34m\u001b[0m\u001b[0m\n\u001b[0m\u001b[1;32m    460\u001b[0m     \u001b[0;32mreturn\u001b[0m \u001b[0max\u001b[0m\u001b[0;34m\u001b[0m\u001b[0;34m\u001b[0m\u001b[0m\n\u001b[1;32m    461\u001b[0m \u001b[0;34m\u001b[0m\u001b[0m\n",
            "\u001b[0;32m/usr/local/lib/python3.10/dist-packages/seaborn/matrix.py\u001b[0m in \u001b[0;36mplot\u001b[0;34m(self, ax, cax, kws)\u001b[0m\n\u001b[1;32m    350\u001b[0m         \u001b[0;31m# Annotate the cells with the formatted values\u001b[0m\u001b[0;34m\u001b[0m\u001b[0;34m\u001b[0m\u001b[0m\n\u001b[1;32m    351\u001b[0m         \u001b[0;32mif\u001b[0m \u001b[0mself\u001b[0m\u001b[0;34m.\u001b[0m\u001b[0mannot\u001b[0m\u001b[0;34m:\u001b[0m\u001b[0;34m\u001b[0m\u001b[0;34m\u001b[0m\u001b[0m\n\u001b[0;32m--> 352\u001b[0;31m             \u001b[0mself\u001b[0m\u001b[0;34m.\u001b[0m\u001b[0m_annotate_heatmap\u001b[0m\u001b[0;34m(\u001b[0m\u001b[0max\u001b[0m\u001b[0;34m,\u001b[0m \u001b[0mmesh\u001b[0m\u001b[0;34m)\u001b[0m\u001b[0;34m\u001b[0m\u001b[0;34m\u001b[0m\u001b[0m\n\u001b[0m\u001b[1;32m    353\u001b[0m \u001b[0;34m\u001b[0m\u001b[0m\n\u001b[1;32m    354\u001b[0m \u001b[0;34m\u001b[0m\u001b[0m\n",
            "\u001b[0;32m/usr/local/lib/python3.10/dist-packages/seaborn/matrix.py\u001b[0m in \u001b[0;36m_annotate_heatmap\u001b[0;34m(self, ax, mesh)\u001b[0m\n\u001b[1;32m    258\u001b[0m                 \u001b[0mlum\u001b[0m \u001b[0;34m=\u001b[0m \u001b[0mrelative_luminance\u001b[0m\u001b[0;34m(\u001b[0m\u001b[0mcolor\u001b[0m\u001b[0;34m)\u001b[0m\u001b[0;34m\u001b[0m\u001b[0;34m\u001b[0m\u001b[0m\n\u001b[1;32m    259\u001b[0m                 \u001b[0mtext_color\u001b[0m \u001b[0;34m=\u001b[0m \u001b[0;34m\".15\"\u001b[0m \u001b[0;32mif\u001b[0m \u001b[0mlum\u001b[0m \u001b[0;34m>\u001b[0m \u001b[0;36m.408\u001b[0m \u001b[0;32melse\u001b[0m \u001b[0;34m\"w\"\u001b[0m\u001b[0;34m\u001b[0m\u001b[0;34m\u001b[0m\u001b[0m\n\u001b[0;32m--> 260\u001b[0;31m                 \u001b[0mannotation\u001b[0m \u001b[0;34m=\u001b[0m \u001b[0;34m(\u001b[0m\u001b[0;34m\"{:\"\u001b[0m \u001b[0;34m+\u001b[0m \u001b[0mself\u001b[0m\u001b[0;34m.\u001b[0m\u001b[0mfmt\u001b[0m \u001b[0;34m+\u001b[0m \u001b[0;34m\"}\"\u001b[0m\u001b[0;34m)\u001b[0m\u001b[0;34m.\u001b[0m\u001b[0mformat\u001b[0m\u001b[0;34m(\u001b[0m\u001b[0mval\u001b[0m\u001b[0;34m)\u001b[0m\u001b[0;34m\u001b[0m\u001b[0;34m\u001b[0m\u001b[0m\n\u001b[0m\u001b[1;32m    261\u001b[0m                 \u001b[0mtext_kwargs\u001b[0m \u001b[0;34m=\u001b[0m \u001b[0mdict\u001b[0m\u001b[0;34m(\u001b[0m\u001b[0mcolor\u001b[0m\u001b[0;34m=\u001b[0m\u001b[0mtext_color\u001b[0m\u001b[0;34m,\u001b[0m \u001b[0mha\u001b[0m\u001b[0;34m=\u001b[0m\u001b[0;34m\"center\"\u001b[0m\u001b[0;34m,\u001b[0m \u001b[0mva\u001b[0m\u001b[0;34m=\u001b[0m\u001b[0;34m\"center\"\u001b[0m\u001b[0;34m)\u001b[0m\u001b[0;34m\u001b[0m\u001b[0;34m\u001b[0m\u001b[0m\n\u001b[1;32m    262\u001b[0m                 \u001b[0mtext_kwargs\u001b[0m\u001b[0;34m.\u001b[0m\u001b[0mupdate\u001b[0m\u001b[0;34m(\u001b[0m\u001b[0mself\u001b[0m\u001b[0;34m.\u001b[0m\u001b[0mannot_kws\u001b[0m\u001b[0;34m)\u001b[0m\u001b[0;34m\u001b[0m\u001b[0;34m\u001b[0m\u001b[0m\n",
            "\u001b[0;31mValueError\u001b[0m: Unknown format code 'd' for object of type 'float'"
          ]
        },
        {
          "output_type": "display_data",
          "data": {
            "text/plain": [
              "<Figure size 1200x1000 with 2 Axes>"
            ],
            "image/png": "[encoded data removed]"
          },
          "metadata": {}
        }
      ],
      "source": [
        "# Define class labels\n",
        "import seaborn as sns\n",
        "\n",
        "# Plot confusion matrix\n",
        "plt.figure(figsize=(12, 10))\n",
        "sns.heatmap(confusion_mat, annot=True, cmap='RdYlGn', fmt='d')\n",
        "plt.title('Normalized Confusion Matrix')\n",
        "plt.xlabel('Predicted Label')\n",
        "plt.ylabel('True Label')\n",
        "plt.show()"
      ]
    },
    {
      "cell_type": "code",
      "source": [
        "from sklearn.metrics import classification_report\n",
        "\n",
        "# Assuming you have the true labels 'y_true' and predicted labels 'y_pred'\n",
        "\n",
        "# Generate classification report\n",
        "report = classification_report(Y_pred_labels,Y_true_labels)\n",
        "\n",
        "# Print the classification report\n",
        "print(report)\n"
      ],
      "metadata": {
        "colab": {
          "base_uri": "https://localhost:8080/"
        },
        "id": "rbe0f6EAd-0u",
        "outputId": "c6613603-de48-4ef3-b8d3-a8f062c4870d"
      },
      "execution_count": null,
      "outputs": [
        {
          "output_type": "stream",
          "name": "stdout",
          "text": [
            "              precision    recall  f1-score   support\n",
            "\n",
            "           0       0.73      0.78      0.76        93\n",
            "           1       0.37      0.73      0.49        51\n",
            "           2       0.23      0.28      0.25        81\n",
            "           3       0.12      0.24      0.16        49\n",
            "           4       0.33      0.22      0.26       151\n",
            "           5       0.44      0.34      0.38       130\n",
            "           6       0.35      0.53      0.42        66\n",
            "           7       0.35      0.49      0.41        72\n",
            "           8       0.58      0.30      0.39       195\n",
            "           9       0.47      0.55      0.51        86\n",
            "          10       0.32      0.24      0.27       135\n",
            "          11       0.24      0.27      0.25        89\n",
            "          12       0.41      0.58      0.48        71\n",
            "          13       0.34      0.33      0.33       104\n",
            "          14       0.28      0.43      0.34        65\n",
            "          15       0.22      0.40      0.28        55\n",
            "          16       0.42      0.35      0.38       119\n",
            "          17       0.48      0.55      0.51        88\n",
            "          18       0.27      0.43      0.33        63\n",
            "          19       0.41      0.29      0.34       141\n",
            "          20       0.76      0.51      0.61       149\n",
            "          21       0.58      0.53      0.55       110\n",
            "          22       0.40      0.21      0.27       193\n",
            "          23       0.38      0.63      0.48        60\n",
            "          24       0.46      0.63      0.53        73\n",
            "          25       0.38      0.20      0.26       191\n",
            "          26       0.28      0.42      0.34        67\n",
            "          27       0.30      0.18      0.22       169\n",
            "          28       0.64      0.59      0.62       108\n",
            "          29       0.45      0.41      0.43       110\n",
            "          30       0.41      0.35      0.38       116\n",
            "          31       0.44      0.42      0.43       105\n",
            "          32       0.36      0.48      0.41        75\n",
            "          33       0.38      0.30      0.34       125\n",
            "          34       0.21      0.38      0.27        55\n",
            "          35       0.27      0.26      0.26       104\n",
            "          36       0.25      0.53      0.34        47\n",
            "          37       0.27      0.28      0.28        96\n",
            "          38       0.32      0.18      0.23       180\n",
            "          39       0.63      0.26      0.37       241\n",
            "          40       0.32      0.74      0.45        43\n",
            "          41       0.58      0.71      0.64        82\n",
            "          42       0.45      0.33      0.38       138\n",
            "          43       0.21      0.44      0.28        48\n",
            "          44       0.12      0.20      0.15        60\n",
            "          45       0.24      0.21      0.22       116\n",
            "          46       0.24      0.24      0.24       102\n",
            "          47       0.45      0.52      0.48        87\n",
            "          48       0.75      0.30      0.43       249\n",
            "          49       0.50      0.57      0.53        88\n",
            "          50       0.13      0.24      0.17        54\n",
            "          51       0.50      0.38      0.43       132\n",
            "          52       0.66      0.40      0.49       167\n",
            "          53       0.58      0.72      0.64        80\n",
            "          54       0.47      0.62      0.53        76\n",
            "          55       0.11      0.16      0.13        69\n",
            "          56       0.61      0.56      0.58       109\n",
            "          57       0.24      0.86      0.38        28\n",
            "          58       0.72      0.33      0.45       217\n",
            "          59       0.54      0.38      0.44       143\n",
            "          60       0.86      0.59      0.70       146\n",
            "          61       0.33      0.60      0.43        55\n",
            "          62       0.39      0.57      0.46        69\n",
            "          63       0.39      0.36      0.38       108\n",
            "          64       0.12      0.15      0.13        82\n",
            "          65       0.22      0.23      0.22        96\n",
            "          66       0.33      0.34      0.34        97\n",
            "          67       0.18      0.53      0.27        34\n",
            "          68       0.61      0.91      0.73        67\n",
            "          69       0.46      0.71      0.56        65\n",
            "          70       0.38      0.57      0.46        67\n",
            "          71       0.56      0.57      0.57        98\n",
            "          72       0.15      0.15      0.15       103\n",
            "          73       0.34      0.35      0.35        96\n",
            "          74       0.18      0.30      0.23        60\n",
            "          75       0.71      0.74      0.72        96\n",
            "          76       0.32      0.94      0.48        34\n",
            "          77       0.19      0.33      0.24        57\n",
            "          78       0.31      0.29      0.30       107\n",
            "          79       0.31      0.39      0.34        80\n",
            "          80       0.02      0.22      0.04         9\n",
            "          81       0.41      0.32      0.36       127\n",
            "          82       0.73      0.74      0.74        98\n",
            "          83       0.24      0.40      0.30        60\n",
            "          84       0.43      0.26      0.32       166\n",
            "          85       0.57      0.43      0.49       134\n",
            "          86       0.44      0.54      0.49        81\n",
            "          87       0.58      0.42      0.49       137\n",
            "          88       0.32      0.34      0.33        94\n",
            "          89       0.57      0.23      0.33       247\n",
            "          90       0.44      0.38      0.41       116\n",
            "          91       0.53      0.43      0.48       122\n",
            "          92       0.26      0.38      0.31        68\n",
            "          93       0.22      0.31      0.26        72\n",
            "          94       0.63      0.75      0.68        84\n",
            "          95       0.60      0.41      0.49       145\n",
            "          96       0.28      0.42      0.34        66\n",
            "          97       0.32      0.55      0.41        58\n",
            "          98       0.17      0.24      0.20        72\n",
            "          99       0.31      0.51      0.39        61\n",
            "\n",
            "    accuracy                           0.39     10000\n",
            "   macro avg       0.39      0.43      0.39     10000\n",
            "weighted avg       0.44      0.39      0.40     10000\n",
            "\n"
          ]
        }
      ]
    }
  ],
  "metadata": {
    "colab": {
      "provenance": [],
      "gpuType": "T4",
      "include_colab_link": true
    },
    "kernelspec": {
      "display_name": "Python 3",
      "name": "python3"
    },
    "language_info": {
      "name": "python"
    },
    "accelerator": "GPU",
    "gpuClass": "standard"
  },
  "nbformat": 4,
  "nbformat_minor": 0
}